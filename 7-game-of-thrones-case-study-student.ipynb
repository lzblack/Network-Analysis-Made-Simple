{
 "cells": [
  {
   "cell_type": "markdown",
   "metadata": {},
   "source": [
    "##### Let's change gears and talk about Game of thrones or shall I say Network of Thrones.\n",
    "\n",
    "It is suprising right? What is the relationship between a fatansy TV show/novel and network science or python(it's not related to a dragon).\n",
    "\n",
    "If you haven't heard of Game of Thrones, then you must be really good at hiding. Game of Thrones is the hugely popular television series by HBO based on the (also) hugely popular book series A Song of Ice and Fire by George R.R. Martin. In this notebook, we will analyze the co-occurrence network of the characters in the Game of Thrones books. Here, two characters are considered to co-occur if their names appear in the vicinity of 15 words from one another in the books."
   ]
  },
  {
   "cell_type": "markdown",
   "metadata": {},
   "source": [
    "![](images/got.png)"
   ]
  },
  {
   "cell_type": "markdown",
   "metadata": {},
   "source": [
    "Andrew J. Beveridge, an associate professor of mathematics at Macalester College, and Jie Shan, an undergraduate created a network from the book A Storm of Swords by extracting relationships between characters to find out the most important characters in the book(or GoT).\n",
    "\n",
    "The dataset is publicly avaiable for the 5 books at https://github.com/mathbeveridge/asoiaf. This is an interaction network and were created by connecting two characters whenever their names (or nicknames) appeared within 15 words of one another in one of the books. The edge weight corresponds to the number of interactions. \n",
    "\n",
    "Credits:\n",
    "\n",
    "Blog: https://networkofthrones.wordpress.com\n",
    "\n",
    "Math Horizons Article: https://www.maa.org/sites/default/files/pdf/Mathhorizons/NetworkofThrones%20%281%29.pdf"
   ]
  },
  {
   "cell_type": "code",
   "execution_count": 3,
   "metadata": {},
   "outputs": [],
   "source": [
    "import pandas as pd\n",
    "import networkx as nx\n",
    "import matplotlib.pyplot as plt\n",
    "import community\n",
    "import numpy as np\n",
    "import warnings\n",
    "warnings.filterwarnings('ignore')\n",
    "\n",
    "%matplotlib inline"
   ]
  },
  {
   "cell_type": "markdown",
   "metadata": {},
   "source": [
    "##### Let's load in the datasets"
   ]
  },
  {
   "cell_type": "code",
   "execution_count": 4,
   "metadata": {},
   "outputs": [],
   "source": [
    "book1 = pd.read_csv('datasets/game_of_thrones_network/asoiaf-book1-edges.csv')\n",
    "book2 = pd.read_csv('datasets/game_of_thrones_network/asoiaf-book2-edges.csv')\n",
    "book3 = pd.read_csv('datasets/game_of_thrones_network/asoiaf-book3-edges.csv')\n",
    "book4 = pd.read_csv('datasets/game_of_thrones_network/asoiaf-book4-edges.csv')\n",
    "book5 = pd.read_csv('datasets/game_of_thrones_network/asoiaf-book5-edges.csv')"
   ]
  },
  {
   "cell_type": "markdown",
   "metadata": {},
   "source": [
    "The resulting DataFrame book1 has 5 columns: Source, Target, Type, weight, and book. Source and target are the two nodes that are linked by an edge. A network can have directed or undirected edges and in this network all the edges are undirected. The weight attribute of every edge tells us the number of interactions that the characters have had over the book, and the book column tells us the book number.\n",
    "\n"
   ]
  },
  {
   "cell_type": "code",
   "execution_count": 5,
   "metadata": {},
   "outputs": [
    {
     "data": {
      "text/html": [
       "<div>\n",
       "<style scoped>\n",
       "    .dataframe tbody tr th:only-of-type {\n",
       "        vertical-align: middle;\n",
       "    }\n",
       "\n",
       "    .dataframe tbody tr th {\n",
       "        vertical-align: top;\n",
       "    }\n",
       "\n",
       "    .dataframe thead th {\n",
       "        text-align: right;\n",
       "    }\n",
       "</style>\n",
       "<table border=\"1\" class=\"dataframe\">\n",
       "  <thead>\n",
       "    <tr style=\"text-align: right;\">\n",
       "      <th></th>\n",
       "      <th>Source</th>\n",
       "      <th>Target</th>\n",
       "      <th>Type</th>\n",
       "      <th>weight</th>\n",
       "      <th>book</th>\n",
       "    </tr>\n",
       "  </thead>\n",
       "  <tbody>\n",
       "    <tr>\n",
       "      <th>0</th>\n",
       "      <td>Addam-Marbrand</td>\n",
       "      <td>Jaime-Lannister</td>\n",
       "      <td>Undirected</td>\n",
       "      <td>3</td>\n",
       "      <td>1</td>\n",
       "    </tr>\n",
       "    <tr>\n",
       "      <th>1</th>\n",
       "      <td>Addam-Marbrand</td>\n",
       "      <td>Tywin-Lannister</td>\n",
       "      <td>Undirected</td>\n",
       "      <td>6</td>\n",
       "      <td>1</td>\n",
       "    </tr>\n",
       "    <tr>\n",
       "      <th>2</th>\n",
       "      <td>Aegon-I-Targaryen</td>\n",
       "      <td>Daenerys-Targaryen</td>\n",
       "      <td>Undirected</td>\n",
       "      <td>5</td>\n",
       "      <td>1</td>\n",
       "    </tr>\n",
       "    <tr>\n",
       "      <th>3</th>\n",
       "      <td>Aegon-I-Targaryen</td>\n",
       "      <td>Eddard-Stark</td>\n",
       "      <td>Undirected</td>\n",
       "      <td>4</td>\n",
       "      <td>1</td>\n",
       "    </tr>\n",
       "    <tr>\n",
       "      <th>4</th>\n",
       "      <td>Aemon-Targaryen-(Maester-Aemon)</td>\n",
       "      <td>Alliser-Thorne</td>\n",
       "      <td>Undirected</td>\n",
       "      <td>4</td>\n",
       "      <td>1</td>\n",
       "    </tr>\n",
       "    <tr>\n",
       "      <th>5</th>\n",
       "      <td>Aemon-Targaryen-(Maester-Aemon)</td>\n",
       "      <td>Bowen-Marsh</td>\n",
       "      <td>Undirected</td>\n",
       "      <td>4</td>\n",
       "      <td>1</td>\n",
       "    </tr>\n",
       "    <tr>\n",
       "      <th>6</th>\n",
       "      <td>Aemon-Targaryen-(Maester-Aemon)</td>\n",
       "      <td>Chett</td>\n",
       "      <td>Undirected</td>\n",
       "      <td>9</td>\n",
       "      <td>1</td>\n",
       "    </tr>\n",
       "    <tr>\n",
       "      <th>7</th>\n",
       "      <td>Aemon-Targaryen-(Maester-Aemon)</td>\n",
       "      <td>Clydas</td>\n",
       "      <td>Undirected</td>\n",
       "      <td>5</td>\n",
       "      <td>1</td>\n",
       "    </tr>\n",
       "    <tr>\n",
       "      <th>8</th>\n",
       "      <td>Aemon-Targaryen-(Maester-Aemon)</td>\n",
       "      <td>Jeor-Mormont</td>\n",
       "      <td>Undirected</td>\n",
       "      <td>13</td>\n",
       "      <td>1</td>\n",
       "    </tr>\n",
       "    <tr>\n",
       "      <th>9</th>\n",
       "      <td>Aemon-Targaryen-(Maester-Aemon)</td>\n",
       "      <td>Jon-Snow</td>\n",
       "      <td>Undirected</td>\n",
       "      <td>34</td>\n",
       "      <td>1</td>\n",
       "    </tr>\n",
       "    <tr>\n",
       "      <th>10</th>\n",
       "      <td>Aemon-Targaryen-(Maester-Aemon)</td>\n",
       "      <td>Samwell-Tarly</td>\n",
       "      <td>Undirected</td>\n",
       "      <td>5</td>\n",
       "      <td>1</td>\n",
       "    </tr>\n",
       "    <tr>\n",
       "      <th>11</th>\n",
       "      <td>Aerys-II-Targaryen</td>\n",
       "      <td>Brandon-Stark</td>\n",
       "      <td>Undirected</td>\n",
       "      <td>4</td>\n",
       "      <td>1</td>\n",
       "    </tr>\n",
       "    <tr>\n",
       "      <th>12</th>\n",
       "      <td>Aerys-II-Targaryen</td>\n",
       "      <td>Eddard-Stark</td>\n",
       "      <td>Undirected</td>\n",
       "      <td>10</td>\n",
       "      <td>1</td>\n",
       "    </tr>\n",
       "    <tr>\n",
       "      <th>13</th>\n",
       "      <td>Aerys-II-Targaryen</td>\n",
       "      <td>Gerold-Hightower</td>\n",
       "      <td>Undirected</td>\n",
       "      <td>3</td>\n",
       "      <td>1</td>\n",
       "    </tr>\n",
       "    <tr>\n",
       "      <th>14</th>\n",
       "      <td>Aerys-II-Targaryen</td>\n",
       "      <td>Jaime-Lannister</td>\n",
       "      <td>Undirected</td>\n",
       "      <td>5</td>\n",
       "      <td>1</td>\n",
       "    </tr>\n",
       "    <tr>\n",
       "      <th>15</th>\n",
       "      <td>Aerys-II-Targaryen</td>\n",
       "      <td>Jon-Arryn</td>\n",
       "      <td>Undirected</td>\n",
       "      <td>3</td>\n",
       "      <td>1</td>\n",
       "    </tr>\n",
       "    <tr>\n",
       "      <th>16</th>\n",
       "      <td>Aerys-II-Targaryen</td>\n",
       "      <td>Robert-Baratheon</td>\n",
       "      <td>Undirected</td>\n",
       "      <td>12</td>\n",
       "      <td>1</td>\n",
       "    </tr>\n",
       "    <tr>\n",
       "      <th>17</th>\n",
       "      <td>Aggo</td>\n",
       "      <td>Daenerys-Targaryen</td>\n",
       "      <td>Undirected</td>\n",
       "      <td>11</td>\n",
       "      <td>1</td>\n",
       "    </tr>\n",
       "    <tr>\n",
       "      <th>18</th>\n",
       "      <td>Aggo</td>\n",
       "      <td>Drogo</td>\n",
       "      <td>Undirected</td>\n",
       "      <td>6</td>\n",
       "      <td>1</td>\n",
       "    </tr>\n",
       "    <tr>\n",
       "      <th>19</th>\n",
       "      <td>Aggo</td>\n",
       "      <td>Jhogo</td>\n",
       "      <td>Undirected</td>\n",
       "      <td>4</td>\n",
       "      <td>1</td>\n",
       "    </tr>\n",
       "    <tr>\n",
       "      <th>20</th>\n",
       "      <td>Aggo</td>\n",
       "      <td>Jorah-Mormont</td>\n",
       "      <td>Undirected</td>\n",
       "      <td>5</td>\n",
       "      <td>1</td>\n",
       "    </tr>\n",
       "    <tr>\n",
       "      <th>21</th>\n",
       "      <td>Aggo</td>\n",
       "      <td>Quaro</td>\n",
       "      <td>Undirected</td>\n",
       "      <td>3</td>\n",
       "      <td>1</td>\n",
       "    </tr>\n",
       "    <tr>\n",
       "      <th>22</th>\n",
       "      <td>Aggo</td>\n",
       "      <td>Rakharo</td>\n",
       "      <td>Undirected</td>\n",
       "      <td>7</td>\n",
       "      <td>1</td>\n",
       "    </tr>\n",
       "    <tr>\n",
       "      <th>23</th>\n",
       "      <td>Albett</td>\n",
       "      <td>Halder</td>\n",
       "      <td>Undirected</td>\n",
       "      <td>3</td>\n",
       "      <td>1</td>\n",
       "    </tr>\n",
       "    <tr>\n",
       "      <th>24</th>\n",
       "      <td>Albett</td>\n",
       "      <td>Jon-Snow</td>\n",
       "      <td>Undirected</td>\n",
       "      <td>5</td>\n",
       "      <td>1</td>\n",
       "    </tr>\n",
       "    <tr>\n",
       "      <th>25</th>\n",
       "      <td>Albett</td>\n",
       "      <td>Rast</td>\n",
       "      <td>Undirected</td>\n",
       "      <td>3</td>\n",
       "      <td>1</td>\n",
       "    </tr>\n",
       "    <tr>\n",
       "      <th>26</th>\n",
       "      <td>Alliser-Thorne</td>\n",
       "      <td>Bowen-Marsh</td>\n",
       "      <td>Undirected</td>\n",
       "      <td>3</td>\n",
       "      <td>1</td>\n",
       "    </tr>\n",
       "    <tr>\n",
       "      <th>27</th>\n",
       "      <td>Alliser-Thorne</td>\n",
       "      <td>Grenn</td>\n",
       "      <td>Undirected</td>\n",
       "      <td>3</td>\n",
       "      <td>1</td>\n",
       "    </tr>\n",
       "    <tr>\n",
       "      <th>28</th>\n",
       "      <td>Alliser-Thorne</td>\n",
       "      <td>Halder</td>\n",
       "      <td>Undirected</td>\n",
       "      <td>4</td>\n",
       "      <td>1</td>\n",
       "    </tr>\n",
       "    <tr>\n",
       "      <th>29</th>\n",
       "      <td>Alliser-Thorne</td>\n",
       "      <td>Jeor-Mormont</td>\n",
       "      <td>Undirected</td>\n",
       "      <td>10</td>\n",
       "      <td>1</td>\n",
       "    </tr>\n",
       "    <tr>\n",
       "      <th>...</th>\n",
       "      <td>...</td>\n",
       "      <td>...</td>\n",
       "      <td>...</td>\n",
       "      <td>...</td>\n",
       "      <td>...</td>\n",
       "    </tr>\n",
       "    <tr>\n",
       "      <th>654</th>\n",
       "      <td>Rodrik-Cassel</td>\n",
       "      <td>Theon-Greyjoy</td>\n",
       "      <td>Undirected</td>\n",
       "      <td>6</td>\n",
       "      <td>1</td>\n",
       "    </tr>\n",
       "    <tr>\n",
       "      <th>655</th>\n",
       "      <td>Rodrik-Cassel</td>\n",
       "      <td>Tyrion-Lannister</td>\n",
       "      <td>Undirected</td>\n",
       "      <td>10</td>\n",
       "      <td>1</td>\n",
       "    </tr>\n",
       "    <tr>\n",
       "      <th>656</th>\n",
       "      <td>Rodrik-Cassel</td>\n",
       "      <td>Willis-Wode</td>\n",
       "      <td>Undirected</td>\n",
       "      <td>7</td>\n",
       "      <td>1</td>\n",
       "    </tr>\n",
       "    <tr>\n",
       "      <th>657</th>\n",
       "      <td>Roose-Bolton</td>\n",
       "      <td>Tywin-Lannister</td>\n",
       "      <td>Undirected</td>\n",
       "      <td>4</td>\n",
       "      <td>1</td>\n",
       "    </tr>\n",
       "    <tr>\n",
       "      <th>658</th>\n",
       "      <td>Sandor-Clegane</td>\n",
       "      <td>Sansa-Stark</td>\n",
       "      <td>Undirected</td>\n",
       "      <td>23</td>\n",
       "      <td>1</td>\n",
       "    </tr>\n",
       "    <tr>\n",
       "      <th>659</th>\n",
       "      <td>Sandor-Clegane</td>\n",
       "      <td>Tyrion-Lannister</td>\n",
       "      <td>Undirected</td>\n",
       "      <td>5</td>\n",
       "      <td>1</td>\n",
       "    </tr>\n",
       "    <tr>\n",
       "      <th>660</th>\n",
       "      <td>Sansa-Stark</td>\n",
       "      <td>Stannis-Baratheon</td>\n",
       "      <td>Undirected</td>\n",
       "      <td>3</td>\n",
       "      <td>1</td>\n",
       "    </tr>\n",
       "    <tr>\n",
       "      <th>661</th>\n",
       "      <td>Sansa-Stark</td>\n",
       "      <td>Tomard</td>\n",
       "      <td>Undirected</td>\n",
       "      <td>3</td>\n",
       "      <td>1</td>\n",
       "    </tr>\n",
       "    <tr>\n",
       "      <th>662</th>\n",
       "      <td>Sansa-Stark</td>\n",
       "      <td>Tyrion-Lannister</td>\n",
       "      <td>Undirected</td>\n",
       "      <td>3</td>\n",
       "      <td>1</td>\n",
       "    </tr>\n",
       "    <tr>\n",
       "      <th>663</th>\n",
       "      <td>Sansa-Stark</td>\n",
       "      <td>Varys</td>\n",
       "      <td>Undirected</td>\n",
       "      <td>4</td>\n",
       "      <td>1</td>\n",
       "    </tr>\n",
       "    <tr>\n",
       "      <th>664</th>\n",
       "      <td>Shae</td>\n",
       "      <td>Tyrion-Lannister</td>\n",
       "      <td>Undirected</td>\n",
       "      <td>12</td>\n",
       "      <td>1</td>\n",
       "    </tr>\n",
       "    <tr>\n",
       "      <th>665</th>\n",
       "      <td>Shagga</td>\n",
       "      <td>Timett</td>\n",
       "      <td>Undirected</td>\n",
       "      <td>4</td>\n",
       "      <td>1</td>\n",
       "    </tr>\n",
       "    <tr>\n",
       "      <th>666</th>\n",
       "      <td>Shagga</td>\n",
       "      <td>Tyrion-Lannister</td>\n",
       "      <td>Undirected</td>\n",
       "      <td>17</td>\n",
       "      <td>1</td>\n",
       "    </tr>\n",
       "    <tr>\n",
       "      <th>667</th>\n",
       "      <td>Shagga</td>\n",
       "      <td>Ulf-son-of-Umar</td>\n",
       "      <td>Undirected</td>\n",
       "      <td>4</td>\n",
       "      <td>1</td>\n",
       "    </tr>\n",
       "    <tr>\n",
       "      <th>668</th>\n",
       "      <td>Stannis-Baratheon</td>\n",
       "      <td>Tywin-Lannister</td>\n",
       "      <td>Undirected</td>\n",
       "      <td>4</td>\n",
       "      <td>1</td>\n",
       "    </tr>\n",
       "    <tr>\n",
       "      <th>669</th>\n",
       "      <td>Stannis-Baratheon</td>\n",
       "      <td>Varys</td>\n",
       "      <td>Undirected</td>\n",
       "      <td>5</td>\n",
       "      <td>1</td>\n",
       "    </tr>\n",
       "    <tr>\n",
       "      <th>670</th>\n",
       "      <td>Stevron-Frey</td>\n",
       "      <td>Walder-Frey</td>\n",
       "      <td>Undirected</td>\n",
       "      <td>3</td>\n",
       "      <td>1</td>\n",
       "    </tr>\n",
       "    <tr>\n",
       "      <th>671</th>\n",
       "      <td>Theon-Greyjoy</td>\n",
       "      <td>Tyrion-Lannister</td>\n",
       "      <td>Undirected</td>\n",
       "      <td>3</td>\n",
       "      <td>1</td>\n",
       "    </tr>\n",
       "    <tr>\n",
       "      <th>672</th>\n",
       "      <td>Theon-Greyjoy</td>\n",
       "      <td>Tywin-Lannister</td>\n",
       "      <td>Undirected</td>\n",
       "      <td>3</td>\n",
       "      <td>1</td>\n",
       "    </tr>\n",
       "    <tr>\n",
       "      <th>673</th>\n",
       "      <td>Theon-Greyjoy</td>\n",
       "      <td>Walder-Frey</td>\n",
       "      <td>Undirected</td>\n",
       "      <td>4</td>\n",
       "      <td>1</td>\n",
       "    </tr>\n",
       "    <tr>\n",
       "      <th>674</th>\n",
       "      <td>Timett</td>\n",
       "      <td>Tyrion-Lannister</td>\n",
       "      <td>Undirected</td>\n",
       "      <td>3</td>\n",
       "      <td>1</td>\n",
       "    </tr>\n",
       "    <tr>\n",
       "      <th>675</th>\n",
       "      <td>Tommen-Baratheon</td>\n",
       "      <td>Tyrion-Lannister</td>\n",
       "      <td>Undirected</td>\n",
       "      <td>3</td>\n",
       "      <td>1</td>\n",
       "    </tr>\n",
       "    <tr>\n",
       "      <th>676</th>\n",
       "      <td>Tyrion-Lannister</td>\n",
       "      <td>Tywin-Lannister</td>\n",
       "      <td>Undirected</td>\n",
       "      <td>40</td>\n",
       "      <td>1</td>\n",
       "    </tr>\n",
       "    <tr>\n",
       "      <th>677</th>\n",
       "      <td>Tyrion-Lannister</td>\n",
       "      <td>Vardis-Egen</td>\n",
       "      <td>Undirected</td>\n",
       "      <td>9</td>\n",
       "      <td>1</td>\n",
       "    </tr>\n",
       "    <tr>\n",
       "      <th>678</th>\n",
       "      <td>Tyrion-Lannister</td>\n",
       "      <td>Varys</td>\n",
       "      <td>Undirected</td>\n",
       "      <td>3</td>\n",
       "      <td>1</td>\n",
       "    </tr>\n",
       "    <tr>\n",
       "      <th>679</th>\n",
       "      <td>Tyrion-Lannister</td>\n",
       "      <td>Willis-Wode</td>\n",
       "      <td>Undirected</td>\n",
       "      <td>4</td>\n",
       "      <td>1</td>\n",
       "    </tr>\n",
       "    <tr>\n",
       "      <th>680</th>\n",
       "      <td>Tyrion-Lannister</td>\n",
       "      <td>Yoren</td>\n",
       "      <td>Undirected</td>\n",
       "      <td>10</td>\n",
       "      <td>1</td>\n",
       "    </tr>\n",
       "    <tr>\n",
       "      <th>681</th>\n",
       "      <td>Tywin-Lannister</td>\n",
       "      <td>Varys</td>\n",
       "      <td>Undirected</td>\n",
       "      <td>4</td>\n",
       "      <td>1</td>\n",
       "    </tr>\n",
       "    <tr>\n",
       "      <th>682</th>\n",
       "      <td>Tywin-Lannister</td>\n",
       "      <td>Walder-Frey</td>\n",
       "      <td>Undirected</td>\n",
       "      <td>8</td>\n",
       "      <td>1</td>\n",
       "    </tr>\n",
       "    <tr>\n",
       "      <th>683</th>\n",
       "      <td>Waymar-Royce</td>\n",
       "      <td>Will-(prologue)</td>\n",
       "      <td>Undirected</td>\n",
       "      <td>18</td>\n",
       "      <td>1</td>\n",
       "    </tr>\n",
       "  </tbody>\n",
       "</table>\n",
       "<p>684 rows × 5 columns</p>\n",
       "</div>"
      ],
      "text/plain": [
       "                              Source              Target        Type  weight  \\\n",
       "0                     Addam-Marbrand     Jaime-Lannister  Undirected       3   \n",
       "1                     Addam-Marbrand     Tywin-Lannister  Undirected       6   \n",
       "2                  Aegon-I-Targaryen  Daenerys-Targaryen  Undirected       5   \n",
       "3                  Aegon-I-Targaryen        Eddard-Stark  Undirected       4   \n",
       "4    Aemon-Targaryen-(Maester-Aemon)      Alliser-Thorne  Undirected       4   \n",
       "5    Aemon-Targaryen-(Maester-Aemon)         Bowen-Marsh  Undirected       4   \n",
       "6    Aemon-Targaryen-(Maester-Aemon)               Chett  Undirected       9   \n",
       "7    Aemon-Targaryen-(Maester-Aemon)              Clydas  Undirected       5   \n",
       "8    Aemon-Targaryen-(Maester-Aemon)        Jeor-Mormont  Undirected      13   \n",
       "9    Aemon-Targaryen-(Maester-Aemon)            Jon-Snow  Undirected      34   \n",
       "10   Aemon-Targaryen-(Maester-Aemon)       Samwell-Tarly  Undirected       5   \n",
       "11                Aerys-II-Targaryen       Brandon-Stark  Undirected       4   \n",
       "12                Aerys-II-Targaryen        Eddard-Stark  Undirected      10   \n",
       "13                Aerys-II-Targaryen    Gerold-Hightower  Undirected       3   \n",
       "14                Aerys-II-Targaryen     Jaime-Lannister  Undirected       5   \n",
       "15                Aerys-II-Targaryen           Jon-Arryn  Undirected       3   \n",
       "16                Aerys-II-Targaryen    Robert-Baratheon  Undirected      12   \n",
       "17                              Aggo  Daenerys-Targaryen  Undirected      11   \n",
       "18                              Aggo               Drogo  Undirected       6   \n",
       "19                              Aggo               Jhogo  Undirected       4   \n",
       "20                              Aggo       Jorah-Mormont  Undirected       5   \n",
       "21                              Aggo               Quaro  Undirected       3   \n",
       "22                              Aggo             Rakharo  Undirected       7   \n",
       "23                            Albett              Halder  Undirected       3   \n",
       "24                            Albett            Jon-Snow  Undirected       5   \n",
       "25                            Albett                Rast  Undirected       3   \n",
       "26                    Alliser-Thorne         Bowen-Marsh  Undirected       3   \n",
       "27                    Alliser-Thorne               Grenn  Undirected       3   \n",
       "28                    Alliser-Thorne              Halder  Undirected       4   \n",
       "29                    Alliser-Thorne        Jeor-Mormont  Undirected      10   \n",
       "..                               ...                 ...         ...     ...   \n",
       "654                    Rodrik-Cassel       Theon-Greyjoy  Undirected       6   \n",
       "655                    Rodrik-Cassel    Tyrion-Lannister  Undirected      10   \n",
       "656                    Rodrik-Cassel         Willis-Wode  Undirected       7   \n",
       "657                     Roose-Bolton     Tywin-Lannister  Undirected       4   \n",
       "658                   Sandor-Clegane         Sansa-Stark  Undirected      23   \n",
       "659                   Sandor-Clegane    Tyrion-Lannister  Undirected       5   \n",
       "660                      Sansa-Stark   Stannis-Baratheon  Undirected       3   \n",
       "661                      Sansa-Stark              Tomard  Undirected       3   \n",
       "662                      Sansa-Stark    Tyrion-Lannister  Undirected       3   \n",
       "663                      Sansa-Stark               Varys  Undirected       4   \n",
       "664                             Shae    Tyrion-Lannister  Undirected      12   \n",
       "665                           Shagga              Timett  Undirected       4   \n",
       "666                           Shagga    Tyrion-Lannister  Undirected      17   \n",
       "667                           Shagga     Ulf-son-of-Umar  Undirected       4   \n",
       "668                Stannis-Baratheon     Tywin-Lannister  Undirected       4   \n",
       "669                Stannis-Baratheon               Varys  Undirected       5   \n",
       "670                     Stevron-Frey         Walder-Frey  Undirected       3   \n",
       "671                    Theon-Greyjoy    Tyrion-Lannister  Undirected       3   \n",
       "672                    Theon-Greyjoy     Tywin-Lannister  Undirected       3   \n",
       "673                    Theon-Greyjoy         Walder-Frey  Undirected       4   \n",
       "674                           Timett    Tyrion-Lannister  Undirected       3   \n",
       "675                 Tommen-Baratheon    Tyrion-Lannister  Undirected       3   \n",
       "676                 Tyrion-Lannister     Tywin-Lannister  Undirected      40   \n",
       "677                 Tyrion-Lannister         Vardis-Egen  Undirected       9   \n",
       "678                 Tyrion-Lannister               Varys  Undirected       3   \n",
       "679                 Tyrion-Lannister         Willis-Wode  Undirected       4   \n",
       "680                 Tyrion-Lannister               Yoren  Undirected      10   \n",
       "681                  Tywin-Lannister               Varys  Undirected       4   \n",
       "682                  Tywin-Lannister         Walder-Frey  Undirected       8   \n",
       "683                     Waymar-Royce     Will-(prologue)  Undirected      18   \n",
       "\n",
       "     book  \n",
       "0       1  \n",
       "1       1  \n",
       "2       1  \n",
       "3       1  \n",
       "4       1  \n",
       "5       1  \n",
       "6       1  \n",
       "7       1  \n",
       "8       1  \n",
       "9       1  \n",
       "10      1  \n",
       "11      1  \n",
       "12      1  \n",
       "13      1  \n",
       "14      1  \n",
       "15      1  \n",
       "16      1  \n",
       "17      1  \n",
       "18      1  \n",
       "19      1  \n",
       "20      1  \n",
       "21      1  \n",
       "22      1  \n",
       "23      1  \n",
       "24      1  \n",
       "25      1  \n",
       "26      1  \n",
       "27      1  \n",
       "28      1  \n",
       "29      1  \n",
       "..    ...  \n",
       "654     1  \n",
       "655     1  \n",
       "656     1  \n",
       "657     1  \n",
       "658     1  \n",
       "659     1  \n",
       "660     1  \n",
       "661     1  \n",
       "662     1  \n",
       "663     1  \n",
       "664     1  \n",
       "665     1  \n",
       "666     1  \n",
       "667     1  \n",
       "668     1  \n",
       "669     1  \n",
       "670     1  \n",
       "671     1  \n",
       "672     1  \n",
       "673     1  \n",
       "674     1  \n",
       "675     1  \n",
       "676     1  \n",
       "677     1  \n",
       "678     1  \n",
       "679     1  \n",
       "680     1  \n",
       "681     1  \n",
       "682     1  \n",
       "683     1  \n",
       "\n",
       "[684 rows x 5 columns]"
      ]
     },
     "execution_count": 5,
     "metadata": {},
     "output_type": "execute_result"
    }
   ],
   "source": [
    "book1"
   ]
  },
  {
   "cell_type": "markdown",
   "metadata": {},
   "source": [
    "Once we have the data loaded as a pandas DataFrame, it's time to create a network. We create a graph for each book. It's possible to create one MultiGraph instead of 5 graphs, but it is easier to play with different graphs."
   ]
  },
  {
   "cell_type": "code",
   "execution_count": 6,
   "metadata": {},
   "outputs": [],
   "source": [
    "G_book1 = nx.Graph()\n",
    "G_book2 = nx.Graph()\n",
    "G_book3 = nx.Graph()\n",
    "G_book4 = nx.Graph()\n",
    "G_book5 = nx.Graph()"
   ]
  },
  {
   "cell_type": "markdown",
   "metadata": {},
   "source": [
    "Let's populate the graph with edges from the pandas DataFrame."
   ]
  },
  {
   "cell_type": "code",
   "execution_count": 7,
   "metadata": {},
   "outputs": [],
   "source": [
    "for row in book1.iterrows():\n",
    "    G_book1.add_edge(row[1]['Source'], row[1]['Target'], weight=row[1]['weight'], book=row[1]['book'])"
   ]
  },
  {
   "cell_type": "code",
   "execution_count": 8,
   "metadata": {},
   "outputs": [],
   "source": [
    "for row in book2.iterrows():\n",
    "    G_book2.add_edge(row[1]['Source'], row[1]['Target'], weight=row[1]['weight'], book=row[1]['book'])\n",
    "for row in book3.iterrows():\n",
    "    G_book3.add_edge(row[1]['Source'], row[1]['Target'], weight=row[1]['weight'], book=row[1]['book'])\n",
    "for row in book4.iterrows():\n",
    "    G_book4.add_edge(row[1]['Source'], row[1]['Target'], weight=row[1]['weight'], book=row[1]['book'])\n",
    "for row in book5.iterrows():\n",
    "    G_book5.add_edge(row[1]['Source'], row[1]['Target'], weight=row[1]['weight'], book=row[1]['book'])"
   ]
  },
  {
   "cell_type": "code",
   "execution_count": 9,
   "metadata": {},
   "outputs": [],
   "source": [
    "books = [G_book1, G_book2, G_book3, G_book4, G_book5]"
   ]
  },
  {
   "cell_type": "markdown",
   "metadata": {},
   "source": [
    "Let's have a look at these edges."
   ]
  },
  {
   "cell_type": "code",
   "execution_count": 10,
   "metadata": {},
   "outputs": [
    {
     "data": {
      "text/plain": [
       "('Jaime-Lannister', 'Loras-Tyrell', {'weight': 3, 'book': 1})"
      ]
     },
     "execution_count": 10,
     "metadata": {},
     "output_type": "execute_result"
    }
   ],
   "source": [
    "list(G_book1.edges(data=True))[16]"
   ]
  },
  {
   "cell_type": "code",
   "execution_count": 11,
   "metadata": {},
   "outputs": [
    {
     "data": {
      "text/plain": [
       "('Benjen-Stark', 'Theon-Greyjoy', {'weight': 4, 'book': 1})"
      ]
     },
     "execution_count": 11,
     "metadata": {},
     "output_type": "execute_result"
    }
   ],
   "source": [
    "list(G_book1.edges(data=True))[400]"
   ]
  },
  {
   "cell_type": "markdown",
   "metadata": {},
   "source": [
    "### Finding the most important node i.e character in these networks.\n",
    "\n",
    "Is it Jon Snow, Tyrion, Daenerys, or someone else? Let's see! Network Science offers us many different metrics to measure the importance of a node in a network as we saw in the first part of the tutorial. Note that there is no \"correct\" way of calculating the most important node in a network, every metric has a different meaning.\n",
    "\n",
    "First, let's measure the importance of a node in a network by looking at the number of neighbors it has, that is, the number of nodes it is connected to. For example, an influential account on Twitter, where the follower-followee relationship forms the network, is an account which has a high number of followers. This measure of importance is called degree centrality.\n",
    "\n",
    "Using this measure, let's extract the top ten important characters from the first book (book[0]) and the fifth book (book[4])."
   ]
  },
  {
   "cell_type": "code",
   "execution_count": 12,
   "metadata": {},
   "outputs": [],
   "source": [
    "deg_cen_book1 = nx.degree_centrality(books[0])"
   ]
  },
  {
   "cell_type": "code",
   "execution_count": 13,
   "metadata": {},
   "outputs": [],
   "source": [
    "deg_cen_book5 = nx.degree_centrality(books[4])"
   ]
  },
  {
   "cell_type": "code",
   "execution_count": 14,
   "metadata": {},
   "outputs": [
    {
     "data": {
      "text/plain": [
       "[('Eddard-Stark', 0.3548387096774194),\n",
       " ('Robert-Baratheon', 0.2688172043010753),\n",
       " ('Tyrion-Lannister', 0.24731182795698928),\n",
       " ('Catelyn-Stark', 0.23118279569892475),\n",
       " ('Jon-Snow', 0.19892473118279572),\n",
       " ('Robb-Stark', 0.18817204301075272),\n",
       " ('Sansa-Stark', 0.18817204301075272),\n",
       " ('Bran-Stark', 0.17204301075268819),\n",
       " ('Cersei-Lannister', 0.16129032258064518),\n",
       " ('Joffrey-Baratheon', 0.16129032258064518)]"
      ]
     },
     "execution_count": 14,
     "metadata": {},
     "output_type": "execute_result"
    }
   ],
   "source": [
    "sorted(deg_cen_book1.items(), key=lambda x:x[1], reverse=True)[0:10]"
   ]
  },
  {
   "cell_type": "code",
   "execution_count": 15,
   "metadata": {},
   "outputs": [
    {
     "data": {
      "text/plain": [
       "[('Jon-Snow', 0.1962025316455696),\n",
       " ('Daenerys-Targaryen', 0.18354430379746836),\n",
       " ('Stannis-Baratheon', 0.14873417721518986),\n",
       " ('Tyrion-Lannister', 0.10443037974683544),\n",
       " ('Theon-Greyjoy', 0.10443037974683544),\n",
       " ('Cersei-Lannister', 0.08860759493670886),\n",
       " ('Barristan-Selmy', 0.07911392405063292),\n",
       " ('Hizdahr-zo-Loraq', 0.06962025316455696),\n",
       " ('Asha-Greyjoy', 0.056962025316455694),\n",
       " ('Melisandre', 0.05379746835443038)]"
      ]
     },
     "execution_count": 15,
     "metadata": {},
     "output_type": "execute_result"
    }
   ],
   "source": [
    "sorted(deg_cen_book5.items(), key=lambda x:x[1], reverse=True)[0:10]"
   ]
  },
  {
   "cell_type": "code",
   "execution_count": 16,
   "metadata": {},
   "outputs": [
    {
     "data": {
      "image/png": "[encoded data removed]",
      "text/plain": [
       "<Figure size 432x288 with 1 Axes>"
      ]
     },
     "metadata": {
      "needs_background": "light"
     },
     "output_type": "display_data"
    }
   ],
   "source": [
    "# Plot a histogram of degree centrality\n",
    "plt.hist(list(nx.degree_centrality(G_book4).values()))\n",
    "plt.show()"
   ]
  },
  {
   "cell_type": "markdown",
   "metadata": {},
   "source": [
    "### Exercise\n",
    "\n",
    "Create a new centrality measure, weighted_degree(Graph, weight) which takes in Graph and the weight attribute and returns a weighted degree dictionary. Weighted degree is calculated by summing the weight of the all edges of a node and find the top five characters according to this measure. [5 mins]"
   ]
  },
  {
   "cell_type": "code",
   "execution_count": null,
   "metadata": {},
   "outputs": [],
   "source": [
    "def weighted_degree(G, weight):\n",
    "    result = dict()\n",
    "    for node in G.nodes():\n",
    "        weight_degree = 0\n",
    "        for n in G.edges([node], data=True):\n",
    "            weight_degree += ____________\n",
    "        result[node] = weight_degree\n",
    "    return result"
   ]
  },
  {
   "cell_type": "code",
   "execution_count": null,
   "metadata": {},
   "outputs": [],
   "source": [
    "plt.hist(___________)\n",
    "plt.show()"
   ]
  },
  {
   "cell_type": "code",
   "execution_count": null,
   "metadata": {},
   "outputs": [],
   "source": [
    "sorted(weighted_degree(G_book1, 'weight').items(), key=lambda x:x[1], reverse=True)[0:10]"
   ]
  },
  {
   "cell_type": "markdown",
   "metadata": {},
   "source": [
    "### Let's do this for Betweeness centrality and check if this makes any difference\n",
    "\n",
    "Haha, evil laugh"
   ]
  },
  {
   "cell_type": "code",
   "execution_count": null,
   "metadata": {},
   "outputs": [],
   "source": [
    "# First check unweighted, just the structure\n",
    "\n",
    "sorted(nx.betweenness_centrality(G_book1).items(), key=lambda x:x[1], reverse=True)[0:10]"
   ]
  },
  {
   "cell_type": "code",
   "execution_count": null,
   "metadata": {},
   "outputs": [],
   "source": [
    "# Let's care about interactions now\n",
    "\n",
    "sorted(nx.betweenness_centrality(G_book1, weight='weight').items(), key=lambda x:x[1], reverse=True)[0:10]"
   ]
  },
  {
   "cell_type": "markdown",
   "metadata": {},
   "source": [
    "#### PageRank\n",
    "The billion dollar algorithm, PageRank works by counting the number and quality of links to a page to determine a rough estimate of how important the website is. The underlying assumption is that more important websites are likely to receive more links from other websites."
   ]
  },
  {
   "cell_type": "code",
   "execution_count": null,
   "metadata": {},
   "outputs": [],
   "source": [
    "# by default weight attribute in pagerank is weight, so we use weight=None to find the unweighted results\n",
    "sorted(nx.pagerank_numpy(G_book1, weight=None).items(), key=lambda x:x[1], reverse=True)[0:10]"
   ]
  },
  {
   "cell_type": "code",
   "execution_count": null,
   "metadata": {},
   "outputs": [],
   "source": [
    "sorted(nx.pagerank_numpy(G_book1, weight='weight').items(), key=lambda x:x[1], reverse=True)[0:10]"
   ]
  },
  {
   "cell_type": "markdown",
   "metadata": {},
   "source": [
    "### Is there a correlation between these techniques?\n",
    "\n",
    "#### Exercise\n",
    "\n",
    "Find the correlation between these four techniques.\n",
    "\n",
    "- pagerank\n",
    "- betweenness_centrality\n",
    "- weighted_degree\n",
    "- degree centrality"
   ]
  },
  {
   "cell_type": "code",
   "execution_count": null,
   "metadata": {},
   "outputs": [],
   "source": [
    "cor = pd.DataFrame.from_records([______, _______, _______, ______])"
   ]
  },
  {
   "cell_type": "code",
   "execution_count": null,
   "metadata": {},
   "outputs": [],
   "source": [
    "cor.T"
   ]
  },
  {
   "cell_type": "code",
   "execution_count": null,
   "metadata": {},
   "outputs": [],
   "source": [
    "cor.T.______()"
   ]
  },
  {
   "cell_type": "markdown",
   "metadata": {},
   "source": [
    "## Evolution of importance of characters over the books"
   ]
  },
  {
   "cell_type": "markdown",
   "metadata": {},
   "source": [
    "According to degree centrality the most important character in the first book is Eddard Stark but he is not even in the top 10 of the fifth book. The importance changes over the course of five books, because you know stuff happens ;)\n",
    "\n",
    "Let's look at the evolution of degree centrality of a couple of characters like Eddard Stark, Jon Snow, Tyrion which showed up in the top 10 of degree centrality in first book.\n",
    "\n",
    "We create a dataframe with character columns and index as books where every entry is the degree centrality of the character in that particular book and plot the evolution of degree centrality Eddard Stark, Jon Snow and Tyrion.\n",
    "We can see that the importance of Eddard Stark in the network dies off and with Jon Snow there is a drop in the fourth book but a sudden rise in the fifth book"
   ]
  },
  {
   "cell_type": "code",
   "execution_count": null,
   "metadata": {},
   "outputs": [],
   "source": [
    "evol = [nx.degree_centrality(book) for book in books]\n",
    "evol_df = pd.DataFrame.from_records(evol).fillna(0)\n",
    "evol_df[['Eddard-Stark', 'Tyrion-Lannister', 'Jon-Snow']].plot()"
   ]
  },
  {
   "cell_type": "code",
   "execution_count": null,
   "metadata": {},
   "outputs": [],
   "source": [
    "set_of_char = set()\n",
    "for i in range(5):\n",
    "    set_of_char |= set(list(evol_df.T[i].sort_values(ascending=False)[0:5].index))\n",
    "set_of_char"
   ]
  },
  {
   "cell_type": "markdown",
   "metadata": {},
   "source": [
    "##### Exercise\n",
    "\n",
    "Plot the evolution of weighted degree centrality of the above mentioned characters over the 5 books, and repeat the same exercise for betweenness centrality."
   ]
  },
  {
   "cell_type": "code",
   "execution_count": null,
   "metadata": {},
   "outputs": [],
   "source": [
    "evol_df[__________].plot(figsize=(29,15))"
   ]
  },
  {
   "cell_type": "code",
   "execution_count": null,
   "metadata": {},
   "outputs": [],
   "source": [
    "evol = [____________ for graph in books]\n",
    "evol_df = pd.DataFrame.from_records(evol).fillna(0)\n",
    "\n",
    "set_of_char = set()\n",
    "for i in range(5):\n",
    "    set_of_char |= set(list(evol_df.T[i].sort_values(ascending=False)[0:5].index))\n",
    "\n",
    "\n",
    "evol_df[___________].plot(figsize=(19,10))"
   ]
  },
  {
   "cell_type": "markdown",
   "metadata": {},
   "source": [
    "### So what's up with  Stannis Baratheon?"
   ]
  },
  {
   "cell_type": "code",
   "execution_count": null,
   "metadata": {},
   "outputs": [],
   "source": [
    "nx.draw(nx.barbell_graph(5, 1), with_labels=True)"
   ]
  },
  {
   "cell_type": "code",
   "execution_count": null,
   "metadata": {},
   "outputs": [],
   "source": [
    "sorted(nx.degree_centrality(G_book5).items(), key=lambda x:x[1], reverse=True)[:5]"
   ]
  },
  {
   "cell_type": "code",
   "execution_count": null,
   "metadata": {},
   "outputs": [],
   "source": [
    "sorted(nx.betweenness_centrality(G_book5).items(), key=lambda x:x[1], reverse=True)[:5]"
   ]
  },
  {
   "cell_type": "markdown",
   "metadata": {},
   "source": [
    "#### Community detection in Networks\n",
    "A network is said to have community structure if the nodes of the network can be easily grouped into (potentially overlapping) sets of nodes such that each set of nodes is densely connected internally.\n",
    "\n",
    "We will use louvain community detection algorithm to find the modules in our graph."
   ]
  },
  {
   "cell_type": "code",
   "execution_count": null,
   "metadata": {},
   "outputs": [],
   "source": [
    "partition = community.best_partition(G_book1)\n",
    "size = float(len(set(partition.values())))\n",
    "pos = nx.spring_layout(G_book1)\n",
    "count = 0.\n",
    "for com in set(partition.values()) :\n",
    "    count = count + 1.\n",
    "    list_nodes = [nodes for nodes in partition.keys()\n",
    "                                if partition[nodes] == com]\n",
    "    nx.draw_networkx_nodes(G_book1, pos, list_nodes, node_size = 20,\n",
    "                                node_color = str(count / size))\n",
    "\n",
    "\n",
    "nx.draw_networkx_edges(G_book1, pos, alpha=0.5)\n",
    "plt.show()"
   ]
  },
  {
   "cell_type": "code",
   "execution_count": null,
   "metadata": {},
   "outputs": [],
   "source": [
    "d = {}\n",
    "for character, par in partition.items():\n",
    "    if par in d:\n",
    "        d[par].append(character)\n",
    "    else:\n",
    "        d[par] = [character]\n",
    "d"
   ]
  },
  {
   "cell_type": "code",
   "execution_count": null,
   "metadata": {},
   "outputs": [],
   "source": [
    "nx.draw(nx.subgraph(G_book1, d[3]))"
   ]
  },
  {
   "cell_type": "code",
   "execution_count": null,
   "metadata": {},
   "outputs": [],
   "source": [
    "nx.draw(nx.subgraph(G_book1, d[1]))"
   ]
  },
  {
   "cell_type": "code",
   "execution_count": null,
   "metadata": {},
   "outputs": [],
   "source": [
    "nx.density(G_book1)"
   ]
  },
  {
   "cell_type": "code",
   "execution_count": null,
   "metadata": {},
   "outputs": [],
   "source": [
    "nx.density(nx.subgraph(G_book1, d[4]))"
   ]
  },
  {
   "cell_type": "code",
   "execution_count": null,
   "metadata": {},
   "outputs": [],
   "source": [
    "nx.density(nx.subgraph(G_book1, d[4]))/nx.density(G_book1)"
   ]
  },
  {
   "cell_type": "markdown",
   "metadata": {},
   "source": [
    "#### Exercise \n",
    "\n",
    "Find the most important node in the partitions according to degree centrality of the nodes."
   ]
  },
  {
   "cell_type": "code",
   "execution_count": null,
   "metadata": {},
   "outputs": [],
   "source": [
    "max_d = {}\n",
    "deg_book1 = nx.degree_centrality(G_book1)\n",
    "\n",
    "for ______ in d:\n",
    "    temp = 0\n",
    "    for _______ in d[group]:\n",
    "        if deg_book1[_______] > temp:\n",
    "            max_d[______] = _______\n",
    "            temp = deg_book1[_______]"
   ]
  },
  {
   "cell_type": "code",
   "execution_count": null,
   "metadata": {},
   "outputs": [],
   "source": [
    "max_d"
   ]
  },
  {
   "cell_type": "markdown",
   "metadata": {},
   "source": [
    "## A bit about power law in networks\n"
   ]
  },
  {
   "cell_type": "code",
   "execution_count": null,
   "metadata": {},
   "outputs": [],
   "source": [
    "G_random = nx.erdos_renyi_graph(100, 0.1)"
   ]
  },
  {
   "cell_type": "code",
   "execution_count": null,
   "metadata": {},
   "outputs": [],
   "source": [
    "nx.draw(G_random)"
   ]
  },
  {
   "cell_type": "code",
   "execution_count": null,
   "metadata": {},
   "outputs": [],
   "source": [
    "G_ba = nx.barabasi_albert_graph(100, 2)"
   ]
  },
  {
   "cell_type": "code",
   "execution_count": null,
   "metadata": {},
   "outputs": [],
   "source": [
    "nx.draw(G_ba)"
   ]
  },
  {
   "cell_type": "code",
   "execution_count": null,
   "metadata": {},
   "outputs": [],
   "source": [
    "# Plot a histogram of degree centrality\n",
    "plt.hist(list(nx.degree_centrality(G_random).values()))\n",
    "plt.show()"
   ]
  },
  {
   "cell_type": "code",
   "execution_count": null,
   "metadata": {},
   "outputs": [],
   "source": [
    "plt.hist(list(nx.degree_centrality(G_ba).values()))\n",
    "plt.show()"
   ]
  },
  {
   "cell_type": "code",
   "execution_count": null,
   "metadata": {},
   "outputs": [],
   "source": [
    "G_random = nx.erdos_renyi_graph(2000, 0.2)\n",
    "G_ba = nx.barabasi_albert_graph(2000, 20)"
   ]
  },
  {
   "cell_type": "code",
   "execution_count": null,
   "metadata": {},
   "outputs": [],
   "source": [
    "d = {}\n",
    "for i, j in dict(nx.degree(G_random)).items():\n",
    "    if j in d:\n",
    "        d[j] += 1\n",
    "    else:\n",
    "        d[j] = 1\n",
    "x = np.log2(list((d.keys())))\n",
    "y = np.log2(list(d.values()))\n",
    "plt.scatter(x, y, alpha=0.9)\n",
    "plt.show()"
   ]
  },
  {
   "cell_type": "code",
   "execution_count": null,
   "metadata": {},
   "outputs": [],
   "source": [
    "d = {}\n",
    "for i, j in dict(nx.degree(G_ba)).items():\n",
    "    if j in d:\n",
    "        d[j] += 1\n",
    "    else:\n",
    "        d[j] = 1\n",
    "x = np.log2(list((d.keys())))\n",
    "y = np.log2(list(d.values()))\n",
    "plt.scatter(x, y, alpha=0.9)\n",
    "plt.show()"
   ]
  },
  {
   "cell_type": "code",
   "execution_count": null,
   "metadata": {},
   "outputs": [],
   "source": []
  }
 ],
 "metadata": {
  "kernelspec": {
   "display_name": "Python 3",
   "language": "python",
   "name": "python3"
  },
  "language_info": {
   "codemirror_mode": {
    "name": "ipython",
    "version": 3
   },
   "file_extension": ".py",
   "mimetype": "text/x-python",
   "name": "python",
   "nbconvert_exporter": "python",
   "pygments_lexer": "ipython3",
   "version": "3.7.3"
  }
 },
 "nbformat": 4,
 "nbformat_minor": 2
}
