{
 "cells": [
  {
   "cell_type": "code",
   "execution_count": 1,
   "metadata": {
    "collapsed": true,
    "slideshow": {
     "slide_type": "slide"
    }
   },
   "outputs": [],
   "source": [
    "import networkx as nx\n",
    "from datetime import datetime\n",
    "import matplotlib.pyplot as plt\n",
    "import numpy as np\n",
    "import warnings\n",
    "from custom import load_data as cf\n",
    "\n",
    "warnings.filterwarnings('ignore')\n",
    "\n",
    "%load_ext autoreload\n",
    "%autoreload 2\n",
    "%matplotlib inline\n",
    "%config InlineBackend.figure_format = 'retina'"
   ]
  },
  {
   "cell_type": "markdown",
   "metadata": {
    "slideshow": {
     "slide_type": "slide"
    }
   },
   "source": [
    "# Nodes and Edges: How do we represent relationships between individuals using NetworkX?\n",
    "\n",
    "As mentioned earlier, networks, also known as graphs, are comprised of individual entities and their representatives. The technical term for these are nodes and edges, and when we draw them we typically use circles (nodes) and lines (edges). \n",
    "\n",
    "In this notebook, we will work with a social network of seventh graders, in which nodes are individual students, and edges represent their relationships. Edges between individuals show how often the seventh graders indicated other seventh graders as their favourite.\n",
    "\n",
    "Data credit: http://konect.uni-koblenz.de/networks/moreno_seventh"
   ]
  },
  {
   "cell_type": "markdown",
   "metadata": {
    "slideshow": {
     "slide_type": "slide"
    }
   },
   "source": [
    "## Data Representation\n",
    "\n",
    "In the `networkx` implementation, graph objects store their data in dictionaries. \n",
    "\n",
    "Nodes are part of the attribute `Graph.node`, which is a dictionary where the key is the node ID and the values are a dictionary of attributes. \n",
    "\n",
    "Edges are part of the attribute `Graph.edge`, which is a nested dictionary. Data are accessed as such: `G.edge[node1][node2]['attr_name']`.\n",
    "\n",
    "Because of the dictionary implementation of the graph, any hashable object can be a node. This means strings and tuples, but not lists and sets."
   ]
  },
  {
   "cell_type": "markdown",
   "metadata": {
    "slideshow": {
     "slide_type": "slide"
    }
   },
   "source": [
    "## Load Data\n",
    "\n",
    "Let's load some real network data to get a feel for the NetworkX API. This [dataset](http://konect.uni-koblenz.de/networks/moreno_seventh) comes from a study of 7th grade students.\n",
    "\n",
    "> This directed network contains proximity ratings between studetns from 29 seventh grade students from a school in Victoria. Among other questions the students were asked to nominate their preferred classmates for three different activities. A node represents a student. An edge between two nodes shows that the left student picked the right student as his answer. The edge weights are between 1 and 3 and show how often the left student chose the right student as his favourite."
   ]
  },
  {
   "cell_type": "code",
   "execution_count": 2,
   "metadata": {
    "collapsed": true,
    "slideshow": {
     "slide_type": "fragment"
    }
   },
   "outputs": [],
   "source": [
    "G = cf.load_seventh_grader_network()"
   ]
  },
  {
   "cell_type": "markdown",
   "metadata": {
    "slideshow": {
     "slide_type": "slide"
    }
   },
   "source": [
    "# Basic Network Statistics\n",
    "Let's first understand how many students and friendships are represented in the network."
   ]
  },
  {
   "cell_type": "code",
   "execution_count": 3,
   "metadata": {
    "collapsed": true,
    "slideshow": {
     "slide_type": "fragment"
    }
   },
   "outputs": [
    {
     "data": {
      "text/plain": [
       "NodeView((1, 2, 3, 4, 5, 6, 7, 8, 9, 10, 11, 12, 13, 14, 15, 16, 17, 18, 19, 20, 21, 22, 23, 24, 25, 26, 27, 28, 29))"
      ]
     },
     "execution_count": 3,
     "metadata": {},
     "output_type": "execute_result"
    }
   ],
   "source": [
    "# Who are represented in the network?\n",
    "G.nodes()"
   ]
  },
  {
   "cell_type": "markdown",
   "metadata": {},
   "source": [
    "**API Note:** As of NetworkX 2.0, to select subset of nodes, you have to cast `G.nodes()` as a list, i.e. `list(G.nodes())[0:10]`"
   ]
  },
  {
   "cell_type": "markdown",
   "metadata": {
    "slideshow": {
     "slide_type": "subslide"
    }
   },
   "source": [
    "### Exercise\n",
    "\n",
    "Can you write a single line of code that returns the number of nodes in the graph? (1 min.)"
   ]
  },
  {
   "cell_type": "code",
   "execution_count": 4,
   "metadata": {
    "collapsed": true,
    "slideshow": {
     "slide_type": "fragment"
    }
   },
   "outputs": [
    {
     "data": {
      "text/plain": [
       "29"
      ]
     },
     "execution_count": 4,
     "metadata": {},
     "output_type": "execute_result"
    }
   ],
   "source": [
    "len(G.nodes)"
   ]
  },
  {
   "cell_type": "markdown",
   "metadata": {
    "slideshow": {
     "slide_type": "subslide"
    }
   },
   "source": [
    "Let's now figure out who is connected to who in the network"
   ]
  },
  {
   "cell_type": "code",
   "execution_count": 5,
   "metadata": {
    "collapsed": true,
    "slideshow": {
     "slide_type": "fragment"
    }
   },
   "outputs": [
    {
     "data": {
      "text/plain": [
       "OutEdgeView([(1, 2), (1, 3), (1, 4), (1, 5), (1, 6), (1, 7), (1, 8), (1, 9), (1, 10), (1, 11), (1, 12), (1, 13), (1, 14), (1, 15), (2, 1), (2, 16), (2, 17), (2, 3), (2, 4), (2, 18), (2, 5), (2, 19), (2, 6), (2, 8), (2, 20), (2, 9), (2, 11), (2, 21), (2, 12), (3, 1), (3, 2), (3, 4), (3, 5), (3, 19), (3, 6), (3, 8), (3, 20), (3, 9), (3, 11), (3, 21), (3, 12), (3, 13), (3, 23), (3, 15), (3, 24), (3, 25), (4, 1), (4, 2), (4, 16), (4, 17), (4, 3), (4, 18), (4, 5), (4, 19), (4, 6), (4, 7), (4, 8), (4, 20), (4, 9), (4, 10), (4, 11), (4, 21), (4, 12), (4, 13), (4, 23), (4, 26), (4, 14), (4, 15), (4, 25), (5, 1), (5, 2), (5, 16), (5, 17), (5, 3), (5, 4), (5, 18), (5, 19), (5, 6), (5, 7), (5, 27), (5, 8), (5, 20), (5, 9), (5, 10), (5, 28), (5, 11), (5, 21), (5, 12), (5, 13), (5, 23), (5, 26), (5, 29), (5, 14), (5, 15), (5, 24), (5, 25), (6, 1), (6, 2), (6, 16), (6, 17), (6, 3), (6, 4), (6, 18), (6, 5), (6, 19), (6, 7), (6, 27), (6, 8), (6, 20), (6, 9), (6, 10), (6, 28), (6, 11), (6, 21), (6, 12), (6, 13), (6, 23), (6, 26), (6, 29), (6, 14), (6, 15), (6, 24), (6, 25), (7, 1), (7, 2), (7, 16), (7, 3), (7, 4), (7, 5), (7, 6), (7, 8), (7, 20), (7, 9), (7, 10), (7, 13), (8, 2), (8, 3), (8, 6), (8, 20), (8, 9), (8, 10), (8, 11), (8, 21), (8, 12), (8, 13), (8, 23), (8, 26), (8, 14), (8, 15), (9, 1), (9, 2), (9, 3), (9, 19), (9, 6), (9, 7), (9, 8), (9, 20), (9, 10), (9, 11), (9, 21), (9, 12), (9, 13), (9, 23), (9, 26), (9, 14), (10, 1), (10, 6), (10, 7), (10, 27), (10, 8), (10, 20), (10, 9), (10, 11), (10, 26), (10, 14), (10, 24), (10, 25), (11, 8), (11, 20), (11, 9), (11, 10), (11, 28), (11, 21), (11, 12), (11, 13), (11, 23), (11, 26), (11, 14), (11, 15), (11, 24), (11, 25), (12, 1), (12, 2), (12, 3), (12, 6), (12, 8), (12, 9), (12, 11), (12, 21), (12, 13), (12, 23), (13, 2), (13, 3), (13, 6), (13, 8), (13, 20), (13, 9), (13, 11), (13, 21), (13, 12), (13, 23), (13, 14), (13, 15), (13, 25), (14, 8), (14, 20), (14, 9), (14, 11), (14, 21), (14, 13), (14, 23), (14, 15), (15, 8), (15, 10), (15, 11), (15, 21), (15, 12), (15, 13), (15, 14), (15, 24), (15, 25), (16, 17), (16, 18), (16, 5), (16, 22), (16, 6), (17, 2), (17, 16), (17, 3), (17, 4), (17, 18), (17, 19), (18, 16), (19, 2), (19, 3), (19, 5), (19, 22), (19, 6), (19, 7), (20, 3), (20, 8), (20, 9), (20, 11), (20, 21), (20, 12), (20, 13), (20, 23), (20, 26), (20, 14), (20, 15), (20, 24), (20, 25), (21, 2), (21, 3), (21, 6), (21, 27), (21, 8), (21, 20), (21, 9), (21, 11), (21, 12), (21, 13), (21, 23), (21, 26), (21, 29), (21, 14), (21, 15), (22, 1), (22, 2), (22, 16), (22, 17), (22, 18), (22, 5), (22, 6), (22, 7), (22, 8), (22, 9), (22, 10), (22, 28), (22, 11), (22, 23), (22, 26), (22, 29), (22, 14), (22, 24), (22, 25), (23, 8), (23, 20), (23, 9), (23, 11), (23, 21), (23, 12), (23, 13), (23, 26), (23, 29), (23, 14), (23, 15), (23, 25), (24, 2), (24, 17), (24, 3), (24, 5), (24, 22), (24, 7), (24, 27), (24, 20), (24, 10), (24, 21), (24, 12), (24, 23), (24, 26), (24, 14), (24, 15), (24, 25), (25, 2), (25, 17), (25, 5), (25, 22), (25, 27), (25, 10), (25, 23), (25, 26), (25, 14), (25, 15), (25, 24), (26, 27), (26, 8), (26, 20), (26, 9), (26, 10), (26, 28), (26, 11), (26, 21), (26, 12), (26, 13), (26, 23), (26, 29), (26, 14), (26, 15), (26, 24), (26, 25), (27, 8), (27, 20), (27, 9), (27, 10), (27, 28), (27, 11), (27, 21), (27, 12), (27, 13), (27, 23), (27, 26), (27, 29), (27, 14), (27, 15), (27, 25), (28, 5), (28, 22), (28, 27), (28, 9), (28, 29), (29, 5), (29, 22), (29, 6), (29, 27), (29, 28)])"
      ]
     },
     "execution_count": 5,
     "metadata": {},
     "output_type": "execute_result"
    }
   ],
   "source": [
    "# Who is connected to who in the network?\n",
    "G.edges()"
   ]
  },
  {
   "cell_type": "markdown",
   "metadata": {},
   "source": [
    "**API Note:** As of NetworkX 2.0, to select subset of edges, you have to cast `G.edges()` as a list, i.e. `list(G.edges())[0:10]`"
   ]
  },
  {
   "cell_type": "markdown",
   "metadata": {
    "slideshow": {
     "slide_type": "subslide"
    }
   },
   "source": [
    "### Exercise\n",
    "\n",
    "Can you write a single line of code that returns the number of relationships represented? (1 min.)"
   ]
  },
  {
   "cell_type": "code",
   "execution_count": 6,
   "metadata": {
    "collapsed": true,
    "slideshow": {
     "slide_type": "fragment"
    }
   },
   "outputs": [
    {
     "data": {
      "text/plain": [
       "376"
      ]
     },
     "execution_count": 6,
     "metadata": {},
     "output_type": "execute_result"
    }
   ],
   "source": [
    "len(G.edges())"
   ]
  },
  {
   "cell_type": "markdown",
   "metadata": {
    "slideshow": {
     "slide_type": "slide"
    }
   },
   "source": [
    "## Concept\n",
    "\n",
    "A **network**, more technically known as a **graph**, is comprised of:\n",
    "\n",
    "- a set of nodes\n",
    "- joined by a set of edges\n",
    "\n",
    "They can be represented as two lists:\n",
    "\n",
    "1. A **node list**: a list of 2-tuples where the first element of each tuple is the representation of the node, and the second element is a dictionary of metadata associated with the node.\n",
    "2. An **edge list**: a list of 3-tuples where the first two elements are the nodes that are connected together, and the third element is a dictionary of metadata associated with the edge."
   ]
  },
  {
   "cell_type": "markdown",
   "metadata": {
    "slideshow": {
     "slide_type": "subslide"
    }
   },
   "source": [
    "Since this is a social network of people, there'll be attributes for each individual, such as a student's gender. We can grab that data off from the attributes that are stored with each node."
   ]
  },
  {
   "cell_type": "code",
   "execution_count": 7,
   "metadata": {
    "collapsed": true,
    "slideshow": {
     "slide_type": "fragment"
    }
   },
   "outputs": [
    {
     "data": {
      "text/plain": [
       "[(1, {'gender': 'male'}),\n",
       " (2, {'gender': 'male'}),\n",
       " (3, {'gender': 'male'}),\n",
       " (4, {'gender': 'male'}),\n",
       " (5, {'gender': 'male'}),\n",
       " (6, {'gender': 'male'}),\n",
       " (7, {'gender': 'male'}),\n",
       " (8, {'gender': 'female'}),\n",
       " (9, {'gender': 'female'}),\n",
       " (10, {'gender': 'female'}),\n",
       " (11, {'gender': 'female'}),\n",
       " (12, {'gender': 'female'}),\n",
       " (13, {'gender': 'female'}),\n",
       " (14, {'gender': 'female'}),\n",
       " (15, {'gender': 'female'}),\n",
       " (16, {'gender': 'male'}),\n",
       " (17, {'gender': 'male'}),\n",
       " (18, {'gender': 'male'}),\n",
       " (19, {'gender': 'male'}),\n",
       " (20, {'gender': 'female'}),\n",
       " (21, {'gender': 'female'}),\n",
       " (22, {'gender': 'male'}),\n",
       " (23, {'gender': 'female'}),\n",
       " (24, {'gender': 'female'}),\n",
       " (25, {'gender': 'female'}),\n",
       " (26, {'gender': 'female'}),\n",
       " (27, {'gender': 'female'}),\n",
       " (28, {'gender': 'female'}),\n",
       " (29, {'gender': 'female'})]"
      ]
     },
     "execution_count": 7,
     "metadata": {},
     "output_type": "execute_result"
    }
   ],
   "source": [
    "# Let's get a list of nodes with their attributes.\n",
    "list(G.nodes(data=True))\n",
    "\n",
    "# NetworkX will return a list of tuples in the form (node_id, attribute_dictionary) "
   ]
  },
  {
   "cell_type": "markdown",
   "metadata": {
    "slideshow": {
     "slide_type": "subslide"
    }
   },
   "source": [
    "### Exercise\n",
    "\n",
    "Can you count how many males and females are represented in the graph? (3 min.)\n",
    "\n",
    "Hint: You may want to use the Counter object from the collections module."
   ]
  },
  {
   "cell_type": "code",
   "execution_count": 16,
   "metadata": {
    "collapsed": true,
    "slideshow": {
     "slide_type": "fragment"
    }
   },
   "outputs": [],
   "source": [
    "from collections import Counter\n",
    "mf_counts = Counter([d['gender'] for n, d in G.nodes(data=True)])\n",
    "\n",
    "def test_answer(mf_counts):\n",
    "    assert mf_counts['female'] == 17\n",
    "    assert mf_counts['male'] == 12\n",
    "    \n",
    "test_answer(mf_counts)"
   ]
  },
  {
   "cell_type": "markdown",
   "metadata": {
    "slideshow": {
     "slide_type": "subslide"
    }
   },
   "source": [
    "Edges can also store attributes in their attribute dictionary."
   ]
  },
  {
   "cell_type": "code",
   "execution_count": null,
   "metadata": {
    "collapsed": true,
    "slideshow": {
     "slide_type": "fragment"
    }
   },
   "outputs": [],
   "source": [
    "G.edges(data=True)"
   ]
  },
  {
   "cell_type": "markdown",
   "metadata": {
    "slideshow": {
     "slide_type": "subslide"
    }
   },
   "source": [
    "In this synthetic social network, the number of times the left student indicated that the right student was their favourite is stored in the \"count\" variable."
   ]
  },
  {
   "cell_type": "markdown",
   "metadata": {
    "slideshow": {
     "slide_type": "subslide"
    }
   },
   "source": [
    "### Exercise\n",
    "\n",
    "Can you figure out the maximum times any student rated another student as their favourite? (3 min.)"
   ]
  },
  {
   "cell_type": "code",
   "execution_count": 19,
   "metadata": {},
   "outputs": [
    {
     "data": {
      "text/plain": [
       "OutEdgeDataView([(1, 2, {'count': 1}), (1, 3, {'count': 1}), (1, 4, {'count': 2}), (1, 5, {'count': 2}), (1, 6, {'count': 3}), (1, 7, {'count': 3}), (1, 8, {'count': 2}), (1, 9, {'count': 2}), (1, 10, {'count': 1}), (1, 11, {'count': 1}), (1, 12, {'count': 1}), (1, 13, {'count': 1}), (1, 14, {'count': 1}), (1, 15, {'count': 1}), (2, 1, {'count': 1}), (2, 16, {'count': 1}), (2, 17, {'count': 1}), (2, 3, {'count': 3}), (2, 4, {'count': 3}), (2, 18, {'count': 1}), (2, 5, {'count': 3}), (2, 19, {'count': 3}), (2, 6, {'count': 2}), (2, 8, {'count': 1}), (2, 20, {'count': 3}), (2, 9, {'count': 3}), (2, 11, {'count': 1}), (2, 21, {'count': 1}), (2, 12, {'count': 3}), (3, 1, {'count': 1}), (3, 2, {'count': 3}), (3, 4, {'count': 3}), (3, 5, {'count': 3}), (3, 19, {'count': 2}), (3, 6, {'count': 3}), (3, 8, {'count': 1}), (3, 20, {'count': 3}), (3, 9, {'count': 3}), (3, 11, {'count': 3}), (3, 21, {'count': 1}), (3, 12, {'count': 3}), (3, 13, {'count': 1}), (3, 23, {'count': 1}), (3, 15, {'count': 1}), (3, 24, {'count': 2}), (3, 25, {'count': 1}), (4, 1, {'count': 3}), (4, 2, {'count': 3}), (4, 16, {'count': 3}), (4, 17, {'count': 3}), (4, 3, {'count': 3}), (4, 18, {'count': 1}), (4, 5, {'count': 3}), (4, 19, {'count': 2}), (4, 6, {'count': 3}), (4, 7, {'count': 2}), (4, 8, {'count': 1}), (4, 20, {'count': 1}), (4, 9, {'count': 1}), (4, 10, {'count': 1}), (4, 11, {'count': 1}), (4, 21, {'count': 2}), (4, 12, {'count': 2}), (4, 13, {'count': 2}), (4, 23, {'count': 2}), (4, 26, {'count': 2}), (4, 14, {'count': 2}), (4, 15, {'count': 2}), (4, 25, {'count': 2}), (5, 1, {'count': 3}), (5, 2, {'count': 3}), (5, 16, {'count': 3}), (5, 17, {'count': 3}), (5, 3, {'count': 3}), (5, 4, {'count': 3}), (5, 18, {'count': 3}), (5, 19, {'count': 3}), (5, 6, {'count': 3}), (5, 7, {'count': 3}), (5, 27, {'count': 2}), (5, 8, {'count': 3}), (5, 20, {'count': 2}), (5, 9, {'count': 3}), (5, 10, {'count': 3}), (5, 28, {'count': 1}), (5, 11, {'count': 2}), (5, 21, {'count': 3}), (5, 12, {'count': 3}), (5, 13, {'count': 3}), (5, 23, {'count': 2}), (5, 26, {'count': 3}), (5, 29, {'count': 1}), (5, 14, {'count': 1}), (5, 15, {'count': 2}), (5, 24, {'count': 2}), (5, 25, {'count': 2}), (6, 1, {'count': 3}), (6, 2, {'count': 3}), (6, 16, {'count': 3}), (6, 17, {'count': 3}), (6, 3, {'count': 3}), (6, 4, {'count': 3}), (6, 18, {'count': 3}), (6, 5, {'count': 3}), (6, 19, {'count': 3}), (6, 7, {'count': 3}), (6, 27, {'count': 2}), (6, 8, {'count': 3}), (6, 20, {'count': 1}), (6, 9, {'count': 3}), (6, 10, {'count': 1}), (6, 28, {'count': 1}), (6, 11, {'count': 2}), (6, 21, {'count': 3}), (6, 12, {'count': 3}), (6, 13, {'count': 3}), (6, 23, {'count': 2}), (6, 26, {'count': 1}), (6, 29, {'count': 1}), (6, 14, {'count': 1}), (6, 15, {'count': 1}), (6, 24, {'count': 1}), (6, 25, {'count': 1}), (7, 1, {'count': 3}), (7, 2, {'count': 1}), (7, 16, {'count': 1}), (7, 3, {'count': 2}), (7, 4, {'count': 2}), (7, 5, {'count': 2}), (7, 6, {'count': 3}), (7, 8, {'count': 2}), (7, 20, {'count': 1}), (7, 9, {'count': 2}), (7, 10, {'count': 1}), (7, 13, {'count': 1}), (8, 2, {'count': 1}), (8, 3, {'count': 1}), (8, 6, {'count': 1}), (8, 20, {'count': 2}), (8, 9, {'count': 2}), (8, 10, {'count': 2}), (8, 11, {'count': 3}), (8, 21, {'count': 3}), (8, 12, {'count': 3}), (8, 13, {'count': 3}), (8, 23, {'count': 3}), (8, 26, {'count': 2}), (8, 14, {'count': 3}), (8, 15, {'count': 3}), (9, 1, {'count': 1}), (9, 2, {'count': 1}), (9, 3, {'count': 1}), (9, 19, {'count': 1}), (9, 6, {'count': 1}), (9, 7, {'count': 1}), (9, 8, {'count': 3}), (9, 20, {'count': 3}), (9, 10, {'count': 2}), (9, 11, {'count': 1}), (9, 21, {'count': 3}), (9, 12, {'count': 3}), (9, 13, {'count': 3}), (9, 23, {'count': 2}), (9, 26, {'count': 1}), (9, 14, {'count': 1}), (10, 1, {'count': 1}), (10, 6, {'count': 1}), (10, 7, {'count': 1}), (10, 27, {'count': 1}), (10, 8, {'count': 1}), (10, 20, {'count': 1}), (10, 9, {'count': 1}), (10, 11, {'count': 1}), (10, 26, {'count': 3}), (10, 14, {'count': 1}), (10, 24, {'count': 1}), (10, 25, {'count': 2}), (11, 8, {'count': 3}), (11, 20, {'count': 2}), (11, 9, {'count': 2}), (11, 10, {'count': 1}), (11, 28, {'count': 1}), (11, 21, {'count': 3}), (11, 12, {'count': 3}), (11, 13, {'count': 3}), (11, 23, {'count': 3}), (11, 26, {'count': 3}), (11, 14, {'count': 1}), (11, 15, {'count': 2}), (11, 24, {'count': 1}), (11, 25, {'count': 1}), (12, 1, {'count': 1}), (12, 2, {'count': 1}), (12, 3, {'count': 1}), (12, 6, {'count': 1}), (12, 8, {'count': 3}), (12, 9, {'count': 3}), (12, 11, {'count': 3}), (12, 21, {'count': 3}), (12, 13, {'count': 3}), (12, 23, {'count': 3}), (13, 2, {'count': 1}), (13, 3, {'count': 1}), (13, 6, {'count': 1}), (13, 8, {'count': 3}), (13, 20, {'count': 3}), (13, 9, {'count': 2}), (13, 11, {'count': 3}), (13, 21, {'count': 3}), (13, 12, {'count': 3}), (13, 23, {'count': 3}), (13, 14, {'count': 3}), (13, 15, {'count': 3}), (13, 25, {'count': 1}), (14, 8, {'count': 1}), (14, 20, {'count': 1}), (14, 9, {'count': 1}), (14, 11, {'count': 1}), (14, 21, {'count': 3}), (14, 13, {'count': 3}), (14, 23, {'count': 1}), (14, 15, {'count': 3}), (15, 8, {'count': 1}), (15, 10, {'count': 2}), (15, 11, {'count': 1}), (15, 21, {'count': 1}), (15, 12, {'count': 1}), (15, 13, {'count': 1}), (15, 14, {'count': 3}), (15, 24, {'count': 1}), (15, 25, {'count': 1}), (16, 17, {'count': 3}), (16, 18, {'count': 3}), (16, 5, {'count': 2}), (16, 22, {'count': 1}), (16, 6, {'count': 3}), (17, 2, {'count': 1}), (17, 16, {'count': 3}), (17, 3, {'count': 1}), (17, 4, {'count': 1}), (17, 18, {'count': 1}), (17, 19, {'count': 2}), (18, 16, {'count': 3}), (19, 2, {'count': 3}), (19, 3, {'count': 3}), (19, 5, {'count': 1}), (19, 22, {'count': 1}), (19, 6, {'count': 1}), (19, 7, {'count': 1}), (20, 3, {'count': 1}), (20, 8, {'count': 2}), (20, 9, {'count': 3}), (20, 11, {'count': 2}), (20, 21, {'count': 2}), (20, 12, {'count': 3}), (20, 13, {'count': 2}), (20, 23, {'count': 2}), (20, 26, {'count': 2}), (20, 14, {'count': 1}), (20, 15, {'count': 1}), (20, 24, {'count': 1}), (20, 25, {'count': 1}), (21, 2, {'count': 1}), (21, 3, {'count': 1}), (21, 6, {'count': 1}), (21, 27, {'count': 1}), (21, 8, {'count': 3}), (21, 20, {'count': 3}), (21, 9, {'count': 3}), (21, 11, {'count': 3}), (21, 12, {'count': 3}), (21, 13, {'count': 3}), (21, 23, {'count': 3}), (21, 26, {'count': 1}), (21, 29, {'count': 1}), (21, 14, {'count': 1}), (21, 15, {'count': 3}), (22, 1, {'count': 2}), (22, 2, {'count': 2}), (22, 16, {'count': 2}), (22, 17, {'count': 1}), (22, 18, {'count': 1}), (22, 5, {'count': 3}), (22, 6, {'count': 3}), (22, 7, {'count': 1}), (22, 8, {'count': 1}), (22, 9, {'count': 2}), (22, 10, {'count': 1}), (22, 28, {'count': 1}), (22, 11, {'count': 1}), (22, 23, {'count': 2}), (22, 26, {'count': 1}), (22, 29, {'count': 1}), (22, 14, {'count': 3}), (22, 24, {'count': 1}), (22, 25, {'count': 1}), (23, 8, {'count': 3}), (23, 20, {'count': 3}), (23, 9, {'count': 3}), (23, 11, {'count': 3}), (23, 21, {'count': 3}), (23, 12, {'count': 3}), (23, 13, {'count': 3}), (23, 26, {'count': 1}), (23, 29, {'count': 1}), (23, 14, {'count': 1}), (23, 15, {'count': 1}), (23, 25, {'count': 1}), (24, 2, {'count': 1}), (24, 17, {'count': 1}), (24, 3, {'count': 1}), (24, 5, {'count': 1}), (24, 22, {'count': 2}), (24, 7, {'count': 1}), (24, 27, {'count': 3}), (24, 20, {'count': 3}), (24, 10, {'count': 1}), (24, 21, {'count': 1}), (24, 12, {'count': 1}), (24, 23, {'count': 3}), (24, 26, {'count': 3}), (24, 14, {'count': 2}), (24, 15, {'count': 2}), (24, 25, {'count': 3}), (25, 2, {'count': 1}), (25, 17, {'count': 1}), (25, 5, {'count': 1}), (25, 22, {'count': 1}), (25, 27, {'count': 3}), (25, 10, {'count': 1}), (25, 23, {'count': 3}), (25, 26, {'count': 3}), (25, 14, {'count': 1}), (25, 15, {'count': 3}), (25, 24, {'count': 3}), (26, 27, {'count': 1}), (26, 8, {'count': 2}), (26, 20, {'count': 3}), (26, 9, {'count': 2}), (26, 10, {'count': 3}), (26, 28, {'count': 1}), (26, 11, {'count': 3}), (26, 21, {'count': 1}), (26, 12, {'count': 1}), (26, 13, {'count': 1}), (26, 23, {'count': 2}), (26, 29, {'count': 1}), (26, 14, {'count': 3}), (26, 15, {'count': 3}), (26, 24, {'count': 2}), (26, 25, {'count': 3}), (27, 8, {'count': 3}), (27, 20, {'count': 2}), (27, 9, {'count': 2}), (27, 10, {'count': 1}), (27, 28, {'count': 3}), (27, 11, {'count': 1}), (27, 21, {'count': 3}), (27, 12, {'count': 3}), (27, 13, {'count': 3}), (27, 23, {'count': 3}), (27, 26, {'count': 2}), (27, 29, {'count': 3}), (27, 14, {'count': 1}), (27, 15, {'count': 1}), (27, 25, {'count': 2}), (28, 5, {'count': 1}), (28, 22, {'count': 1}), (28, 27, {'count': 2}), (28, 9, {'count': 1}), (28, 29, {'count': 3}), (29, 5, {'count': 1}), (29, 22, {'count': 1}), (29, 6, {'count': 1}), (29, 27, {'count': 2}), (29, 28, {'count': 3})])"
      ]
     },
     "execution_count": 19,
     "metadata": {},
     "output_type": "execute_result"
    }
   ],
   "source": [
    "G.edges(data=True)"
   ]
  },
  {
   "cell_type": "code",
   "execution_count": 20,
   "metadata": {
    "collapsed": true,
    "slideshow": {
     "slide_type": "fragment"
    }
   },
   "outputs": [],
   "source": [
    "# Answer\n",
    "counts = [d['count'] for _, _, d in G.edges(data=True)]\n",
    "maxcount = max(counts)\n",
    "\n",
    "def test_maxcount(maxcount):\n",
    "    assert maxcount == 3\n",
    "    \n",
    "test_maxcount(maxcount)"
   ]
  },
  {
   "cell_type": "markdown",
   "metadata": {
    "slideshow": {
     "slide_type": "subslide"
    }
   },
   "source": [
    "### Exercise\n",
    "\n",
    "We found out that there are two individuals that we left out of the network, individual no. 30 and 31. They are one male (30) and one female (31), and they are a pair that just love hanging out with one another and with individual 7 (`count=3`), in both directions per pair. Add this information to the graph. (5 min.)\n",
    "\n",
    "If you need more help, check out https://networkx.github.io/documentation/stable/tutorial.html"
   ]
  },
  {
   "cell_type": "code",
   "execution_count": 28,
   "metadata": {
    "collapsed": true,
    "slideshow": {
     "slide_type": "subslide"
    }
   },
   "outputs": [],
   "source": [
    "# Answer: Follow the coding pattern.\n",
    "G.add_node(30, gender='male')\n",
    "G.add_node(31, gender='female')\n",
    "\n",
    "G.add_edge(30, 31, count=3)\n",
    "G.add_edge(31, 30, count=3)\n",
    "G.add_edge(30, 7, count=3)\n",
    "G.add_edge(31, 7, count=3)\n",
    "G.add_edge(7, 30, count=3)\n",
    "G.add_edge(7, 31, count=3)"
   ]
  },
  {
   "cell_type": "markdown",
   "metadata": {
    "slideshow": {
     "slide_type": "subslide"
    }
   },
   "source": [
    "Verify that you have added in the edges and nodes correctly by running the following cell."
   ]
  },
  {
   "cell_type": "code",
   "execution_count": 29,
   "metadata": {
    "collapsed": true,
    "slideshow": {
     "slide_type": "fragment"
    }
   },
   "outputs": [
    {
     "name": "stdout",
     "output_type": "stream",
     "text": [
      "All tests passed.\n"
     ]
    }
   ],
   "source": [
    "def test_graph_integrity(G):\n",
    "    assert 30 in G.nodes()\n",
    "    assert 31 in G.nodes()\n",
    "    assert G.node[30]['gender'] == 'male'\n",
    "    assert G.node[31]['gender'] == 'female'\n",
    "    assert G.has_edge(30, 31)\n",
    "    assert G.has_edge(30, 7)\n",
    "    assert G.has_edge(31, 7)\n",
    "    assert G.edges[30, 7]['count'] == 3\n",
    "    assert G.edges[7, 30]['count'] == 3\n",
    "    assert G.edges[31, 7]['count'] == 3\n",
    "    assert G.edges[7, 31]['count'] == 3\n",
    "    assert G.edges[30, 31]['count'] == 3\n",
    "    assert G.edges[31, 30]['count'] == 3\n",
    "    print('All tests passed.')\n",
    "    \n",
    "test_graph_integrity(G)"
   ]
  },
  {
   "cell_type": "markdown",
   "metadata": {},
   "source": [
    "**API Note:** Pre-NetworkX 2.0, the syntax for accessing any particular edge's metadata was `G.edge[node1][node2][key]`. \n",
    "\n",
    "Post-NetworkX 2.0, the syntax has changed to: `G.edges[node1, node2][key]`."
   ]
  },
  {
   "cell_type": "markdown",
   "metadata": {
    "slideshow": {
     "slide_type": "slide"
    }
   },
   "source": [
    "### Exercise (break-time)\n",
    "\n",
    "If you would like a challenge during the break, try figuring out which students have \"unrequited\" friendships, that is, they have rated another student as their favourite at least once, but that other student has not rated them as their favourite at least once.\n",
    "\n",
    "Specifically, get a list of edges for which the reverse edge is not present.\n",
    "\n",
    "**Hint:** You may need the class method `G.has_edge(n1, n2)`. This returns whether a graph has an edge between the nodes `n1` and `n2`."
   ]
  },
  {
   "cell_type": "code",
   "execution_count": 23,
   "metadata": {
    "ExecuteTime": {
     "end_time": "2018-05-02T13:57:33.103586Z",
     "start_time": "2018-05-02T13:57:33.052329Z"
    },
    "slideshow": {
     "slide_type": "subslide"
    }
   },
   "outputs": [],
   "source": [
    "unrequitted_friendships = []\n",
    "# Fill in your answer below.\n",
    "for a, b in G.edges():\n",
    "    if not G.has_edge(b, a):\n",
    "        unrequitted_friendships.append(G.edges[a, b])\n",
    "\n",
    "assert len(unrequitted_friendships) == 124"
   ]
  },
  {
   "cell_type": "markdown",
   "metadata": {},
   "source": [
    "In a previous session at ODSC East 2018, a few other class participants attempted this problem. You can find their solutions in the Instructor version of this notebook."
   ]
  },
  {
   "cell_type": "markdown",
   "metadata": {
    "slideshow": {
     "slide_type": "slide"
    }
   },
   "source": [
    "## Tests\n",
    "\n",
    "A note about the tests: Testing is good practice when writing code. Well-crafted assertion statements help you program defensivel, by forcing you to explicitly state your assumptions about the code or data.\n",
    "\n",
    "For more references on defensive programming, check out Software Carpentry's website: http://swcarpentry.github.io/python-novice-inflammation/08-defensive/\n",
    "\n",
    "For more information on writing tests for your data, check out these slides from a lightning talk I gave at Boston Python and SciPy 2015: http://j.mp/data-test"
   ]
  },
  {
   "cell_type": "markdown",
   "metadata": {
    "slideshow": {
     "slide_type": "slide"
    }
   },
   "source": [
    "# Coding Patterns\n",
    "\n",
    "These are some recommended coding patterns when doing network analysis using NetworkX, which stem from my roughly two years of experience with the package."
   ]
  },
  {
   "cell_type": "markdown",
   "metadata": {
    "slideshow": {
     "slide_type": "subslide"
    }
   },
   "source": [
    "## Iterating using List Comprehensions\n",
    "I would recommend that you use the following for compactness: \n",
    "\n",
    "    [d['attr'] for n, d in G.nodes(data=True)]\n",
    "\n",
    "And if the node is unimportant, you can do:\n",
    "\n",
    "    [d['attr'] for _, d in G.nodes(data=True)]"
   ]
  },
  {
   "cell_type": "markdown",
   "metadata": {
    "slideshow": {
     "slide_type": "subslide"
    }
   },
   "source": [
    "## Iterating over Edges using List Comprehensions\n",
    "\n",
    "A similar pattern can be used for edges:\n",
    "\n",
    "    [n2 for n1, n2, d in G.edges(data=True)]\n",
    "\n",
    "or\n",
    "\n",
    "    [n2 for _, n2, d in G.edges(data=True)]\n",
    "\n",
    "If the graph you are constructing is a directed graph, with a \"source\" and \"sink\" available, then I would recommend the following pattern:\n",
    "\n",
    "    [(sc, sk) for sc, sk, d in G.edges(data=True)]\n",
    "\n",
    "or \n",
    "\n",
    "    [d['attr'] for sc, sk, d in G.edges(data=True)]"
   ]
  },
  {
   "cell_type": "markdown",
   "metadata": {
    "slideshow": {
     "slide_type": "slide"
    }
   },
   "source": [
    "# Drawing Graphs\n",
    "\n",
    "As illustrated above, we can draw graphs using the `nx.draw()` function. The most popular format for drawing graphs is the **node-link diagram**."
   ]
  },
  {
   "cell_type": "markdown",
   "metadata": {},
   "source": [
    "## Hairballs\n",
    "\n",
    "Nodes are circles and lines are edges. Nodes more tightly connected with one another are clustered together. Large graphs end up looking like hairballs."
   ]
  },
  {
   "cell_type": "code",
   "execution_count": null,
   "metadata": {
    "collapsed": true,
    "slideshow": {
     "slide_type": "subslide"
    }
   },
   "outputs": [],
   "source": [
    "nx.draw(G)"
   ]
  },
  {
   "cell_type": "markdown",
   "metadata": {
    "slideshow": {
     "slide_type": "subslide"
    }
   },
   "source": [
    "If the network is small enough to visualize, and the node labels are small enough to fit in a circle, then you can use the `with_labels=True` argument."
   ]
  },
  {
   "cell_type": "code",
   "execution_count": null,
   "metadata": {
    "collapsed": true,
    "slideshow": {
     "slide_type": "fragment"
    }
   },
   "outputs": [],
   "source": [
    "nx.draw(G, with_labels=True)"
   ]
  },
  {
   "cell_type": "markdown",
   "metadata": {
    "slideshow": {
     "slide_type": "subslide"
    }
   },
   "source": [
    "However, note that if the number of nodes in the graph gets really large, node-link diagrams can begin to look like massive hairballs. This is undesirable for graph visualization.\n",
    "\n",
    "## Matrix Plot\n",
    "\n",
    "Instead, we can use a **matrix** to represent them. The nodes are on the x- and y- axes, and a filled square represent an edge between the nodes. This is done by using the `MatrixPlot` object from `nxviz`."
   ]
  },
  {
   "cell_type": "code",
   "execution_count": null,
   "metadata": {
    "collapsed": true,
    "slideshow": {
     "slide_type": "subslide"
    }
   },
   "outputs": [],
   "source": [
    "from nxviz import MatrixPlot\n",
    "\n",
    "m = MatrixPlot(G)\n",
    "m.draw()\n",
    "plt.show()"
   ]
  },
  {
   "cell_type": "markdown",
   "metadata": {},
   "source": [
    "## Arc Plot\n",
    "\n",
    "The Arc Plot is the basis of the next set of rational network visualizations."
   ]
  },
  {
   "cell_type": "code",
   "execution_count": null,
   "metadata": {
    "ExecuteTime": {
     "end_time": "2017-07-11T18:51:53.911943Z",
     "start_time": "2017-07-11T18:51:52.522004Z"
    },
    "collapsed": true
   },
   "outputs": [],
   "source": [
    "from nxviz import ArcPlot\n",
    "\n",
    "a = ArcPlot(G, node_color='gender', node_grouping='gender')\n",
    "a.draw()"
   ]
  },
  {
   "cell_type": "markdown",
   "metadata": {
    "slideshow": {
     "slide_type": "subslide"
    }
   },
   "source": [
    "## Circos Plot\n",
    "\n",
    "Let's try another visualization, the **Circos plot**. We can order the nodes in the Circos plot according to the node ID, but any other ordering is possible as well. Edges are drawn between two nodes.\n",
    "\n",
    "Credit goes to Justin Zabilansky (MIT) for the implementation, Jon Charest for subsequent improvements, and `nxviz` contributors for further development."
   ]
  },
  {
   "cell_type": "code",
   "execution_count": null,
   "metadata": {
    "collapsed": true,
    "scrolled": true,
    "slideshow": {
     "slide_type": "subslide"
    }
   },
   "outputs": [],
   "source": [
    "from nxviz import CircosPlot\n",
    "\n",
    "c = CircosPlot(G, node_color='gender', node_grouping='gender')\n",
    "c.draw()\n",
    "plt.savefig('images/seventh.png', dpi=300)"
   ]
  },
  {
   "cell_type": "markdown",
   "metadata": {
    "slideshow": {
     "slide_type": "subslide"
    }
   },
   "source": [
    "This visualization helps us highlight nodes that there are poorly connected, and others that are strongly connected.\n",
    "\n",
    "## Hive Plot\n",
    "\n",
    "Next up, let's try Hive Plots. HivePlots are not yet implemented in `nxviz` just yet, so we're going to be using the old `hiveplot` API for this. When HivePlots have been migrated over to `nxviz`, its API will resemble that of the CircosPlot's. "
   ]
  },
  {
   "cell_type": "code",
   "execution_count": null,
   "metadata": {
    "collapsed": true,
    "slideshow": {
     "slide_type": "subslide"
    }
   },
   "outputs": [],
   "source": [
    "from hiveplot import HivePlot\n",
    "\n",
    "nodes = dict()\n",
    "nodes['male'] = [n for n,d in G.nodes(data=True) if d['gender'] == 'male']\n",
    "nodes['female'] = [n for n,d in G.nodes(data=True) if d['gender'] == 'female']\n",
    "\n",
    "edges = dict()\n",
    "edges['group1'] = G.edges(data=True)\n",
    "\n",
    "nodes_cmap = dict()\n",
    "nodes_cmap['male'] = 'blue'\n",
    "nodes_cmap['female'] = 'red'\n",
    "\n",
    "edges_cmap = dict()\n",
    "edges_cmap['group1'] = 'black'"
   ]
  },
  {
   "cell_type": "code",
   "execution_count": null,
   "metadata": {
    "collapsed": true,
    "scrolled": false,
    "slideshow": {
     "slide_type": "subslide"
    }
   },
   "outputs": [],
   "source": [
    "h = HivePlot(nodes, edges, nodes_cmap, edges_cmap)\n",
    "h.draw()"
   ]
  },
  {
   "cell_type": "markdown",
   "metadata": {
    "slideshow": {
     "slide_type": "fragment"
    }
   },
   "source": [
    "Hive plots allow us to divide our nodes into sub-groups, and visualize the within- and between-group connectivity."
   ]
  },
  {
   "cell_type": "code",
   "execution_count": null,
   "metadata": {
    "collapsed": true,
    "slideshow": {
     "slide_type": "skip"
    }
   },
   "outputs": [],
   "source": []
  }
 ],
 "metadata": {
  "celltoolbar": "Slideshow",
  "kernelspec": {
   "display_name": "Python 3",
   "language": "python",
   "name": "python3"
  },
  "language_info": {
   "codemirror_mode": {
    "name": "ipython",
    "version": 3
   },
   "file_extension": ".py",
   "mimetype": "text/x-python",
   "name": "python",
   "nbconvert_exporter": "python",
   "pygments_lexer": "ipython3",
   "version": "3.7.3"
  },
  "widgets": {
   "state": {},
   "version": "1.1.1"
  }
 },
 "nbformat": 4,
 "nbformat_minor": 2
}
